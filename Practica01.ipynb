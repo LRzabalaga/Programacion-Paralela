{
 "cells": [
  {
   "cell_type": "code",
   "execution_count": 1,
   "id": "cede197a",
   "metadata": {},
   "outputs": [
    {
     "name": "stdout",
     "output_type": "stream",
     "text": [
      "0 1 1 2 3 5 8 13 21 34 55 89 144 233 377 610 987 \n"
     ]
    }
   ],
   "source": [
    "def fib(n):\n",
    "    a, b = 0,1\n",
    "    while a < n:\n",
    "        print(a, end=' ')\n",
    "        a, b = b, a+b\n",
    "    print()\n",
    "fib(1000)"
   ]
  },
  {
   "cell_type": "code",
   "execution_count": 3,
   "id": "f201f230",
   "metadata": {},
   "outputs": [
    {
     "name": "stderr",
     "output_type": "stream",
     "text": [
      "[Parallel(n_jobs=-1)]: Using backend LokyBackend with 4 concurrent workers.\n",
      "[Parallel(n_jobs=-1)]: Done  10 tasks      | elapsed:    0.8s\n",
      "[Parallel(n_jobs=-1)]: Done 520 tasks      | elapsed:    0.9s\n",
      "[Parallel(n_jobs=-1)]: Done 3000 out of 3000 | elapsed:    1.4s finished\n"
     ]
    }
   ],
   "source": [
    "from joblib import Parallel, delayed\n",
    "from os import getpid\n",
    "\n",
    "def modfib(n):\n",
    "    if n%400 == 0:\n",
    "        print(getpid(), n)  \n",
    "\n",
    "    # fibonacci mod 1000000\n",
    "    a,b = 0,1\n",
    "    for i in range(n):\n",
    "        a,b = b,(a+b)%1000000\n",
    "    return b\n",
    "\n",
    "if __name__ == \"__main__\":\n",
    "    Parallel(n_jobs=-1, verbose=5)(delayed(modfib)(j) for j in range(1000, 4000))"
   ]
  },
  {
   "cell_type": "code",
   "execution_count": null,
   "id": "e6ef60c8",
   "metadata": {},
   "outputs": [],
   "source": []
  }
 ],
 "metadata": {
  "kernelspec": {
   "display_name": "Python 3",
   "language": "python",
   "name": "python3"
  },
  "language_info": {
   "codemirror_mode": {
    "name": "ipython",
    "version": 3
   },
   "file_extension": ".py",
   "mimetype": "text/x-python",
   "name": "python",
   "nbconvert_exporter": "python",
   "pygments_lexer": "ipython3",
   "version": "3.8.8"
  }
 },
 "nbformat": 4,
 "nbformat_minor": 5
}
